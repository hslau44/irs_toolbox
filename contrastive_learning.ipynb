{
 "cells": [
  {
   "cell_type": "code",
   "execution_count": null,
   "metadata": {},
   "outputs": [],
   "source": [
    "import numpy as np\n",
    "import pandas as pd\n",
    "import seaborn as sns  # for heatmaps\n",
    "from sklearn.metrics import confusion_matrix\n",
    "import matplotlib.pyplot as plt\n",
    "from collections import Counter\n",
    "%matplotlib inline"
   ]
  },
  {
   "cell_type": "code",
   "execution_count": null,
   "metadata": {},
   "outputs": [],
   "source": [
    "import torch\n",
    "import torch.nn as nn\n",
    "from torch.nn import functional as F\n",
    "from torchsummary import summary\n",
    "import torchvision"
   ]
  },
  {
   "cell_type": "markdown",
   "metadata": {},
   "source": [
    "# Contrastive_learning_for_unseen_environments"
   ]
  },
  {
   "cell_type": "code",
   "execution_count": null,
   "metadata": {},
   "outputs": [],
   "source": [
    "# random seed\n",
    "np.random.seed(1024)\n",
    "torch.manual_seed(1024)\n",
    "\n",
    "# gpu setting\n",
    "DEVICE = torch.device(\"cuda:1\" if torch.cuda.is_available() else \"cpu\")\n",
    "device = DEVICE\n",
    "torch.cuda.set_device(DEVICE)"
   ]
  },
  {
   "cell_type": "code",
   "execution_count": null,
   "metadata": {},
   "outputs": [],
   "source": [
    "TRAINMODE = 'simclr' # 'normal' #\n",
    "PAIRING =  'nuc2' # 'pwr' #\n",
    "NETWORK = 'shallow' # 'alexnet' # resnet18\n",
    "TEMPERATURE = 'L'"
   ]
  },
  {
   "cell_type": "code",
   "execution_count": null,
   "metadata": {},
   "outputs": [],
   "source": [
    "fp2 = './data/experiment_data/exp_2/spectrogram' \n",
    "fp3 = './data/experiment_data/exp_3/spectrogram' \n",
    "fp4 = './data/experiment_data/exp_4/spectrogram_multi'\n",
    "OUT_PATH = '.'\n",
    "\n",
    "JOINT = 'first'\n",
    "SKIP = ['standff'] # ,'waving'\n",
    "BATCH_SIZE = 64\n",
    "NUM_WORKERS = 0\n",
    "PRETRAIN_EPOCHS = 1200\n",
    "LAB_FINETUNE_EPOCHS = 200\n",
    "FIELD_FINETUNE_EPOCHS = 200\n",
    "REGULARIZE = None"
   ]
  },
  {
   "cell_type": "markdown",
   "metadata": {},
   "source": [
    "## 0. Setup "
   ]
  },
  {
   "cell_type": "markdown",
   "metadata": {},
   "source": [
    "### a. data"
   ]
  },
  {
   "cell_type": "code",
   "execution_count": null,
   "metadata": {},
   "outputs": [],
   "source": [
    "from data.spectrogram import import_data, import_pair_data\n",
    "from data import *"
   ]
  },
  {
   "cell_type": "markdown",
   "metadata": {},
   "source": [
    "### b. model setup"
   ]
  },
  {
   "cell_type": "code",
   "execution_count": null,
   "metadata": {},
   "outputs": [],
   "source": [
    "from models.baseline import *\n",
    "from models.cnn import *\n",
    "from models.self_supervised import *\n",
    "from models.utils import *\n",
    "from models import *"
   ]
  },
  {
   "cell_type": "code",
   "execution_count": null,
   "metadata": {},
   "outputs": [],
   "source": [
    "from losses import NT_Xent\n",
    "from contrastive_learning import pretrain\n",
    "from train import record_log,save,evaluation,train,load_checkpoint"
   ]
  },
  {
   "cell_type": "code",
   "execution_count": null,
   "metadata": {},
   "outputs": [],
   "source": [
    "def create_encoder(network,pairing):\n",
    "    if network == \"shallow\":\n",
    "        if pairing == 'csi':\n",
    "            encoder = create_baseline_encoder(scale_factor=1)\n",
    "            outsize = 960\n",
    "        elif pairing == 'nuc2':\n",
    "            encoder = create_baseline_encoder(scale_factor=1)\n",
    "            outsize = 960\n",
    "        elif pairing == 'pwr':\n",
    "            encoder = create_baseline_encoder(scale_factor=3)\n",
    "            outsize = 1152\n",
    "        else: \n",
    "            raise ValueError(\"pairing must be in {'csi','nuc2','pwr'}\")\n",
    "    elif network == \"alexnet\":\n",
    "        if pairing == 'csi':\n",
    "            encoder,outsize = create_alexnet((1,4),scale_factor=1)\n",
    "        elif pairing == 'nuc2':\n",
    "            encoder,outsize = create_alexnet((1,4),scale_factor=1)\n",
    "        elif pairing == 'pwr':\n",
    "            encoder,outsize = create_alexnet((4,1),scale_factor=2)\n",
    "        else: \n",
    "            raise ValueError(\"pairing must be in {'csi','nuc2','pwr'}\")\n",
    "    elif network == \"resnet\":\n",
    "        if pairing == 'csi':\n",
    "            encoder,outsize = create_resnet18((2,2))\n",
    "        if pairing == 'nuc2':\n",
    "            encoder,outsize = create_resnet18((2,2))\n",
    "        elif pairing == 'pwr':\n",
    "            encoder,outsize = create_resnet18((2,2))\n",
    "        else: \n",
    "            raise ValueError(\"pairing must be in {'csi','nuc2','pwr'}\")\n",
    "    else:\n",
    "        raise ValueError(\"network must be in {'shallow','alexnet','resnet'}\")\n",
    "    return encoder, outsize"
   ]
  },
  {
   "cell_type": "code",
   "execution_count": null,
   "metadata": {},
   "outputs": [],
   "source": [
    "def record_log(record_outpath,exp_name,phase,record='None',cmtx='None',cls='None',loss_rec=True,acc_rec=False):\n",
    "    prefix = record_outpath+'/'+exp_name+'_Phase_'+phase\n",
    "    if type(record) != str:\n",
    "        if loss_rec:\n",
    "            pd.DataFrame(record['train'],columns=['train_loss']).to_csv(prefix+'_loss.csv')\n",
    "        if acc_rec: \n",
    "            pd.DataFrame(record['validation'],columns=['validation_accuracy']).to_csv(prefix+'_accuracy.csv')\n",
    "    if type(cmtx) != str:\n",
    "        cmtx.to_csv(prefix+'_cmtx.csv')\n",
    "    if type(cls) != str:\n",
    "        cls.to_csv(prefix+'_report.csv')\n",
    "    return"
   ]
  },
  {
   "cell_type": "code",
   "execution_count": null,
   "metadata": {},
   "outputs": [],
   "source": [
    "def save_model(model_outpath,exp_name,phase,model):\n",
    "    model_fp = model_outpath+'/'+exp_name+'_Phase_'+phase\n",
    "    torch.save(encoder.state_dict(), model_fp)\n",
    "    return model_fp\n",
    "\n",
    "def load_encoder(network, model_fp):\n",
    "    encoder, outsize = create_encoder(network,'csi')\n",
    "    encoder.load_state_dict(torch.load(model_fp))\n",
    "    return encoder, outsize\n",
    "\n",
    "def load_model(network, freeze, lb, model_fp):\n",
    "    encoder, outsize = create_encoder(network,'csi')\n",
    "    model = add_classifier(encoder,in_size=outsize,out_size=(lb.classes_),freeze=freeze)\n",
    "    model.load_state_dict(torch.load(model_fp))\n",
    "    return model\n",
    "    \n"
   ]
  },
  {
   "cell_type": "markdown",
   "metadata": {},
   "source": [
    "# Main"
   ]
  },
  {
   "cell_type": "code",
   "execution_count": null,
   "metadata": {},
   "outputs": [],
   "source": [
    "trainmode = TRAINMODE\n",
    "pairing = PAIRING\n",
    "network = NETWORK\n",
    "temperature = TEMPERATURE\n",
    "joint = JOINT\n",
    "activities = SKIP\n",
    "batch_size = BATCH_SIZE\n",
    "num_workers = NUM_WORKERS\n",
    "pretrain_epochs = PRETRAIN_EPOCHS \n",
    "lab_finetune_epochs = LAB_FINETUNE_EPOCHS \n",
    "field_finetune_epochs = FIELD_FINETUNE_EPOCHS\n",
    "regularize = REGULARIZE \n",
    "t = TEMPERATURE\n",
    "\n",
    "\n",
    "temperature_dict = {'L':0.1,'M':0.5,'H':1}    \n",
    "temperature = temperature_dict[t]\n",
    "\n",
    "if TRAINMODE == 'normal':\n",
    "    pairing = ''\n",
    "    t = ''\n",
    "    freeze=False\n",
    "    \n",
    "else:\n",
    "    freeze=True\n",
    "\n",
    "\n",
    "exp_name = f'Trainmode-{trainmode}-{t}_Network-{network}_Data-exp4csi{pairing}'\n",
    "model_outpath  = OUT_PATH+'/'+'laboratory'+'/'+'saved_models'\n",
    "record_outpath = OUT_PATH+'/'+'laboratory'+'/'+'records'\n",
    "\n",
    "print(exp_name)"
   ]
  },
  {
   "cell_type": "code",
   "execution_count": null,
   "metadata": {},
   "outputs": [],
   "source": []
  },
  {
   "cell_type": "code",
   "execution_count": null,
   "metadata": {},
   "outputs": [],
   "source": [
    "####################################################### Main #############################################################\n",
    "\n",
    "\n",
    "X1,X2,y = import_pair_data(fp4,modal=['csi',pairing])\n",
    "X1_train, X1_test, X2_train, X2_test, y_train, y_test = split_datasets(X1,X2,y)\n",
    "X_train, X_test, y_train, y_test = select_train_test_dataset(X1_train, X1_test, X2_train, X2_test, y_train, y_test, joint)\n",
    "X_train, X_test, y_train, y_test, lb = filtering_activities_and_label_encoding(X_train, X_test, y_train, y_test, activities)"
   ]
  },
  {
   "cell_type": "code",
   "execution_count": null,
   "metadata": {
    "scrolled": true
   },
   "outputs": [],
   "source": [
    "################################ Lab-Pretrain-phase ################################\n",
    "\n",
    "### data\n",
    "pretrain_loader = create_dataloader(X1_train,X2_train,batch_size=batch_size,num_workers=num_workers)\n",
    "print('X1_train: ',X1_train.shape,'\\tX2_train: ',X2_train.shape)\n",
    "\n",
    "### network\n",
    "encoder, outsize = create_encoder(network,'csi')\n",
    "encoder2, outsize2 = create_encoder(network,pairing)\n",
    "simclr = add_SimCLR_multi(enc1=encoder,enc2=encoder2,out_size1=outsize,out_size2=outsize2)\n",
    "\n",
    "### pretraining\n",
    "phase = 'pretrain'\n",
    "if trainmode == 'simclr':\n",
    "    criterion = NT_Xent(batch_size, temperature, world_size=1)\n",
    "    optimizer = torch.optim.SGD(list(simclr.parameters()), lr=0.0005)\n",
    "    simclr, record = pretrain(model=simclr,\n",
    "                              train_loader=pretrain_loader,\n",
    "                              criterion=criterion,\n",
    "                              optimizer=optimizer,\n",
    "                              end=pretrain_epochs,\n",
    "                              device=device)\n",
    "\n",
    "# record and save\n",
    "record_log(record_outpath,exp_name,phase,record=record)\n",
    "encoder_fp = save_model(model_outpath,exp_name,phase,simclr.encoder)\n",
    "del simclr,encoder,encoder2\n",
    "torch.cuda.empty_cache()\n",
    "\n",
    "################################ Lab-Finetuning-phase ################################\n",
    "\n",
    "\n",
    "inital = {'lab':True,'field':True}\n",
    "for sampling in ['weight',1,5,10]:\n",
    "    \n",
    "    print('sampling: ',sampling)\n",
    "    \n",
    "    ### Sampling data ###\n",
    "    lab_finetune_loader, lab_validatn_loader, class_weight = combine1(X_train, X_test, y_train, y_test, \n",
    "                                                              sampling, lb, batch_size, num_workers)\n",
    "    print(\"class: \",lb.classes_)\n",
    "    print(\"class_size: \",1-class_weight)\n",
    "    \n",
    "    ### model \n",
    "    encoder, outsize = load_encoder(network, encoder_fp)\n",
    "    model = add_classifier(encoder,in_size=outsize,out_size=len(lb.classes_),freeze=freeze)\n",
    "    \n",
    "    # initialization\n",
    "    phase = 'lab-initial'\n",
    "    if inital['lab']:\n",
    "        cmtx,cls = evaluation(model,lab_finetune_loader,label_encoder=lb)\n",
    "        record_log(record_outpath,exp_name,phase,cmtx=cmtx,cls=cls)\n",
    "        inital['lab'] = False\n",
    "    \n",
    "    # finetuning \n",
    "    phase = 'lab-finetune'\n",
    "    criterion = nn.CrossEntropyLoss(weight=class_weight).to(device)\n",
    "    optimizer = torch.optim.Adam(list(model.parameters()), lr=0.0005)\n",
    "    model, record = train(model=model,\n",
    "                          train_loader= lab_finetune_loader,\n",
    "                          criterion=criterion,\n",
    "                          optimizer=optimizer,\n",
    "                          end= lab_finetune_epochs,\n",
    "                          test_loader = lab_validatn_loader,\n",
    "                          device = device,\n",
    "                          regularize = regularize)\n",
    "    \n",
    "    # record and save\n",
    "    cmtx,cls = evaluation(model,lab_validatn_loader,label_encoder=lb)\n",
    "    record_log(record_outpath,exp_name,phase,record=record,cmtx=cmtx,cls=cls,acc_rec=True)\n",
    "    \n",
    "    if sampling != 'weight':\n",
    "        \n",
    "        del encoder,model,record,cmtx,cls,criterion,optimizer\n",
    "        torch.cuda.empty_cache()\n",
    "\n",
    "    elif sampling == 'weight':\n",
    "        \n",
    "        model_fp = save_model(model_outpath,exp_name,phase,model)\n",
    "        del encoder,model,record,cmtx,cls,criterion,optimizer\n",
    "        torch.cuda.empty_cache()\n",
    "    "
   ]
  },
  {
   "cell_type": "code",
   "execution_count": null,
   "metadata": {},
   "outputs": [],
   "source": []
  },
  {
   "cell_type": "code",
   "execution_count": null,
   "metadata": {},
   "outputs": [],
   "source": [
    "assert False"
   ]
  },
  {
   "cell_type": "code",
   "execution_count": null,
   "metadata": {},
   "outputs": [],
   "source": [
    "################################ Field-Finetuning-phase ################################\n",
    "    \n",
    "        for field_sampling in [1,5,10]:\n",
    "\n",
    "            Xf,yf = import_data(fp2)\n",
    "            field_finetune_loader, field_validatn_loader, lb = process_field_data(Xf,yf,num=field_sampling,lb=lb)\n",
    "            \n",
    "            \n",
    "            model = load_model(network, freeze, lb, model_fp)\n",
    "            \n",
    "            # initialization\n",
    "            phase = 'field-initial'\n",
    "            if inital['field'] == True:\n",
    "                cmtx,cls = evaluation(model,test_loader,label_encoder=lb)\n",
    "                record_log(record_outpath,exp_name,phase,cmtx=cmtx,cls=cls)\n",
    "                inital['field'] = False\n",
    "                \n",
    "            # finetuning \n",
    "            phase = 'field-finetune'\n",
    "            criterion = nn.CrossEntropyLoss(weight=class_weight).to(device)\n",
    "            optimizer = torch.optim.Adam(list(model.parameters()), lr=0.0005)\n",
    "            model, record = train(model=model,\n",
    "                                  train_loader= field_finetune_loader,\n",
    "                                  criterion=criterion,\n",
    "                                  optimizer=optimizer,\n",
    "                                  end= field_finetune_epochs,\n",
    "                                  test_loader = field_validatn_loader,\n",
    "                                  device = device,\n",
    "                                  regularize = regularize)\n",
    "            # record and save\n",
    "            evaluation(model,field_validatn_loader,label_encoder=lb)\n",
    "            record_log(record_outpath,exp_name,phase,record=record,cmtx=cmtx,cls=cls,acc_rec=True)\n",
    "            del encoder,model,record,cmtx,cls,criterion,optimizer\n",
    "            torch.cuda.empty_cache()\n",
    "\n",
    "        \n",
    "        \n",
    "        \n",
    "    \n",
    "    "
   ]
  },
  {
   "cell_type": "code",
   "execution_count": null,
   "metadata": {},
   "outputs": [],
   "source": []
  }
 ],
 "metadata": {
  "kernelspec": {
   "display_name": "Python 3",
   "language": "python",
   "name": "python3"
  },
  "language_info": {
   "codemirror_mode": {
    "name": "ipython",
    "version": 3
   },
   "file_extension": ".py",
   "mimetype": "text/x-python",
   "name": "python",
   "nbconvert_exporter": "python",
   "pygments_lexer": "ipython3",
   "version": "3.7.3"
  }
 },
 "nbformat": 4,
 "nbformat_minor": 2
}
