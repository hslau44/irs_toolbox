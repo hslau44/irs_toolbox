{
 "cells": [
  {
   "cell_type": "code",
   "execution_count": null,
   "metadata": {},
   "outputs": [],
   "source": [
    "import numpy as np\n",
    "import pandas as pd\n",
    "import seaborn as sn  # for heatmaps\n",
    "from sklearn.metrics import confusion_matrix\n",
    "import matplotlib.pyplot as plt\n",
    "%matplotlib inline"
   ]
  },
  {
   "cell_type": "markdown",
   "metadata": {},
   "source": [
    "# Pending"
   ]
  },
  {
   "cell_type": "code",
   "execution_count": null,
   "metadata": {},
   "outputs": [],
   "source": [
    "# from scipy.io import loadmat\n",
    "\n",
    "# link = r\"D:\\external_data\\Experiment4\"\n",
    "# filename = r\"\\Dataset_PWR_WiFi.mat\"\n",
    "# directory = link + filename\n",
    "\n",
    "# mat = loadmat(directory)"
   ]
  },
  {
   "cell_type": "code",
   "execution_count": null,
   "metadata": {},
   "outputs": [],
   "source": [
    "# # import experimental dataset 2\n",
    "# folderpath2 = \"D:/external_data/Experiment3/csv_files/exp_2\"  # CHANGE THIS IF THE PATH CHANGED\n",
    "# df_exp2 = import_clean_data('exp2',folderpath2)"
   ]
  },
  {
   "cell_type": "markdown",
   "metadata": {},
   "source": [
    "# lab"
   ]
  },
  {
   "cell_type": "code",
   "execution_count": null,
   "metadata": {},
   "outputs": [],
   "source": []
  },
  {
   "cell_type": "code",
   "execution_count": null,
   "metadata": {},
   "outputs": [],
   "source": []
  },
  {
   "cell_type": "code",
   "execution_count": null,
   "metadata": {},
   "outputs": [],
   "source": [
    "from sklearn.preprocessing import MinMaxScaler\n",
    "from data.process_data import stacking\n",
    "import matplotlib.pyplot as plt\n",
    "\n",
    "\n",
    "\n",
    "def visual_spectrogram(img,title='spectrogram'):\n",
    "    \n",
    "    if len(img.shape) == 3:\n",
    "        \n",
    "        img.squeeze()\n",
    "    \n",
    "    img = MinMaxScaler(feature_range=(0,1)).fit_transform(img)\n",
    "    \n",
    "#     img = img.reshape(*img.shape[:-1],1)\n",
    "    \n",
    "#     img = np.concatenate((img,img,img),axis=2)\n",
    "    \n",
    "    plt.figure(figsize = (15,50))\n",
    "    plt.imshow(img,cmap='jet')\n",
    "    plt.title(title)\n",
    "    plt.show()\n",
    "    \n",
    "    return "
   ]
  },
  {
   "cell_type": "code",
   "execution_count": null,
   "metadata": {},
   "outputs": [],
   "source": [
    "import torchvision.models as models\n",
    "        \n",
    "#visualize weights for alexnet - first conv layer\n",
    "alexnet = models.alexnet(pretrained=False)\n",
    "\n",
    "# Store all conv layer in alexnet\n",
    "k = []\n",
    "for m in alexnet.modules():\n",
    "    if isinstance(m, nn.Conv2d):\n",
    "        print(m.weight.data.shape)\n",
    "        k.append(m)\n",
    "    else:  \n",
    "        continue\n"
   ]
  },
  {
   "cell_type": "code",
   "execution_count": null,
   "metadata": {},
   "outputs": [],
   "source": [
    "def visual_single_filter(weight):\n",
    "    \n",
    "    img = MinMaxScaler(feature_range=(0,1)).fit_transform(weight)\n",
    "    \n",
    "#     img = img.reshape(*img.shape[:-1],1)\n",
    "    \n",
    "#     img = np.concatenate((img,img,img),axis=2)\n",
    "    \n",
    "#     plt.figure(figsize = (15,10))\n",
    "    plt.imshow(weight,cmap='jet')\n",
    "#     plt.show()\n",
    "    \n",
    "    return \n",
    "\n",
    "def visualise_filters(layer,figsize=(20,15)):\n",
    "    \n",
    "    weights = layer.weight.data\n",
    "\n",
    "    if weights.shape[0] > weights.shape[1]:\n",
    "        \n",
    "        weights = weights.transpose(1,0)\n",
    "        \n",
    "    rows = weights.shape[0]\n",
    "    \n",
    "    cols = weights.shape[1]\n",
    "    \n",
    "    axes = []\n",
    "    \n",
    "    fig= plt.figure()\n",
    "\n",
    "    for n in range(rows):\n",
    "\n",
    "        for c in range(cols):\n",
    "            \n",
    "            axes.append(fig.add_subplot(rows, cols, n*cols+c+1))\n",
    "\n",
    "            single_filter = weights[n,c]\n",
    "        \n",
    "            visual_single_filter(single_filter)\n",
    "            \n",
    "#     fig.tight_layout()    \n",
    "    \n",
    "    plt.show()     \n",
    "    \n",
    "    return \n",
    "\n",
    "visualise_filters(example)"
   ]
  },
  {
   "cell_type": "markdown",
   "metadata": {},
   "source": [
    "# model factory"
   ]
  },
  {
   "cell_type": "code",
   "execution_count": 1,
   "metadata": {},
   "outputs": [],
   "source": [
    "import time\n",
    "from time import gmtime, strftime"
   ]
  },
  {
   "cell_type": "code",
   "execution_count": 2,
   "metadata": {},
   "outputs": [],
   "source": [
    "import numpy as np\n",
    "import pandas as pd\n",
    "import torch\n",
    "import torch.nn as nn\n",
    "from torch.nn import functional as F\n",
    "from torchsummary import summary\n",
    "import torchvision"
   ]
  },
  {
   "cell_type": "markdown",
   "metadata": {},
   "source": [
    "##### extra setting"
   ]
  },
  {
   "cell_type": "code",
   "execution_count": 3,
   "metadata": {},
   "outputs": [
    {
     "data": {
      "text/plain": [
       "[<torch.cuda.device at 0x1c616087788>]"
      ]
     },
     "execution_count": 3,
     "metadata": {},
     "output_type": "execute_result"
    }
   ],
   "source": [
    "available_gpus = [torch.cuda.device(i) for i in range(torch.cuda.device_count())]\n",
    "available_gpus"
   ]
  },
  {
   "cell_type": "code",
   "execution_count": 4,
   "metadata": {},
   "outputs": [
    {
     "name": "stdout",
     "output_type": "stream",
     "text": [
      "cuda:0\n"
     ]
    }
   ],
   "source": [
    "device = torch.device(\"cuda:0\" if torch.cuda.is_available() else \"cpu\")\n",
    "\n",
    "# Assuming that we are on a CUDA machine, this should print a CUDA device:\n",
    "\n",
    "print(device)\n",
    "\n",
    "torch.cuda.device_count()\n",
    "\n",
    "torch.cuda.set_device(device)"
   ]
  },
  {
   "cell_type": "code",
   "execution_count": 5,
   "metadata": {},
   "outputs": [
    {
     "data": {
      "text/plain": [
       "<torch._C.Generator at 0x1c611f9d3f0>"
      ]
     },
     "execution_count": 5,
     "metadata": {},
     "output_type": "execute_result"
    }
   ],
   "source": [
    "np.random.seed(1024)\n",
    "torch.manual_seed(1024)\n",
    "# torch.set_deterministic(True)"
   ]
  },
  {
   "cell_type": "markdown",
   "metadata": {},
   "source": [
    "### 0. Default"
   ]
  },
  {
   "cell_type": "code",
   "execution_count": 7,
   "metadata": {},
   "outputs": [],
   "source": [
    "# model \n",
    "class Model(nn.Module):\n",
    "    \n",
    "    def __init__(self):\n",
    "        super(Model, self).__init__()\n",
    "        pass\n",
    "    \n",
    "    def forward(self,X):\n",
    "        return X"
   ]
  },
  {
   "cell_type": "markdown",
   "metadata": {},
   "source": [
    "### 1. Section"
   ]
  },
  {
   "cell_type": "code",
   "execution_count": 6,
   "metadata": {},
   "outputs": [],
   "source": [
    "from models import ED_module, Lambda, Classifier\n",
    "from torchsummary import summary"
   ]
  },
  {
   "cell_type": "code",
   "execution_count": 7,
   "metadata": {
    "scrolled": true
   },
   "outputs": [],
   "source": [
    "class Encoder(nn.Module):\n",
    "    \"\"\"\n",
    "    Encoder for spectrogram (1,65,65), 3 layer\n",
    "    \"\"\"\n",
    "    def __init__(self,num_filters):\n",
    "        super(Encoder, self).__init__()\n",
    "        l1,l2,l3 = num_filters\n",
    "        ### 1st ###\n",
    "        self.conv1 = nn.Conv2d(1,l1,kernel_size=5,stride=2)\n",
    "        self.norm1 = nn.BatchNorm2d(l1)\n",
    "        self.actv1 = nn.ReLU()\n",
    "        self.pool1 = nn.MaxPool2d(kernel_size=(2,2))\n",
    "        ### 2nd ###\n",
    "        self.conv2 = nn.Conv2d(l1,l2,kernel_size=3,stride=2)\n",
    "        self.norm2 = nn.BatchNorm2d(l2)\n",
    "        self.actv2 = nn.ReLU()\n",
    "        self.pool2 = Lambda(lambda x:x) # nn.MaxPool2d(kernel_size=(2,2))\n",
    "        ### 3rd ###\n",
    "        self.conv3 = nn.Conv2d(l2,l3,kernel_size=2,stride=2)\n",
    "        self.norm3 = Lambda(lambda x:x)\n",
    "        self.actv3 = nn.Tanh()\n",
    "        self.pool3 = nn.AvgPool2d(kernel_size=(2,2))\n",
    "        \n",
    "    def forward(self,X):\n",
    "        X = self.pool1(self.actv1(self.norm1(self.conv1(X))))\n",
    "        X = self.pool2(self.actv2(self.norm2(self.conv2(X))))\n",
    "        X = self.pool3(self.actv3(self.norm3(self.conv3(X))))\n",
    "        X = torch.flatten(X, 1)\n",
    "        # print(X.shape)\n",
    "        return X\n",
    "    \n",
    "# mdl = Encoder([64,128,512]).cuda()\n",
    "# summary(mdl,(1,65,65),batch_size=128)"
   ]
  },
  {
   "cell_type": "code",
   "execution_count": 8,
   "metadata": {},
   "outputs": [],
   "source": [
    "class Projection_head(nn.Module):\n",
    "    \"\"\"\n",
    "    Projection head: \n",
    "    \n",
    "    head: linear/mlp\n",
    "    \"\"\"\n",
    "    def __init__(self,dim_in,feat_dim,head='linear'):\n",
    "        super(Projection_head, self).__init__()\n",
    "        if head == 'linear':\n",
    "            self.head = nn.Linear(dim_in, feat_dim)\n",
    "        elif head == 'mlp':\n",
    "            self.head = nn.Sequential(\n",
    "                nn.Linear(dim_in, dim_in),\n",
    "                nn.ReLU(inplace=True),\n",
    "                nn.Linear(dim_in, feat_dim)\n",
    "            )\n",
    "\n",
    "    def forward(self,X):\n",
    "        X = self.head(X)\n",
    "        X = F.normalize(X, dim=1)\n",
    "        X = X.unsqueeze(1)\n",
    "        return X"
   ]
  },
  {
   "cell_type": "markdown",
   "metadata": {},
   "source": [
    "### 2. calling function"
   ]
  },
  {
   "cell_type": "code",
   "execution_count": null,
   "metadata": {},
   "outputs": [],
   "source": []
  },
  {
   "cell_type": "code",
   "execution_count": null,
   "metadata": {},
   "outputs": [],
   "source": []
  },
  {
   "cell_type": "code",
   "execution_count": 60,
   "metadata": {},
   "outputs": [
    {
     "ename": "NameError",
     "evalue": "name 'mdl' is not defined",
     "output_type": "error",
     "traceback": [
      "\u001b[1;31m---------------------------------------------------------------------------\u001b[0m",
      "\u001b[1;31mNameError\u001b[0m                                 Traceback (most recent call last)",
      "\u001b[1;32m<ipython-input-60-748fd01e9e96>\u001b[0m in \u001b[0;36m<module>\u001b[1;34m\u001b[0m\n\u001b[1;32m----> 1\u001b[1;33m \u001b[1;32mdel\u001b[0m \u001b[0mmdl\u001b[0m\u001b[1;33m\u001b[0m\u001b[1;33m\u001b[0m\u001b[0m\n\u001b[0m\u001b[0;32m      2\u001b[0m \u001b[0mtorch\u001b[0m\u001b[1;33m.\u001b[0m\u001b[0mcuda\u001b[0m\u001b[1;33m.\u001b[0m\u001b[0mempty_cache\u001b[0m\u001b[1;33m(\u001b[0m\u001b[1;33m)\u001b[0m\u001b[1;33m\u001b[0m\u001b[1;33m\u001b[0m\u001b[0m\n",
      "\u001b[1;31mNameError\u001b[0m: name 'mdl' is not defined"
     ]
    }
   ],
   "source": [
    "del mdl\n",
    "torch.cuda.empty_cache()"
   ]
  },
  {
   "cell_type": "code",
   "execution_count": 17,
   "metadata": {},
   "outputs": [
    {
     "ename": "AssertionError",
     "evalue": "",
     "output_type": "error",
     "traceback": [
      "\u001b[1;31m---------------------------------------------------------------------------\u001b[0m",
      "\u001b[1;31mAssertionError\u001b[0m                            Traceback (most recent call last)",
      "\u001b[1;32m<ipython-input-17-a871fdc9ebee>\u001b[0m in \u001b[0;36m<module>\u001b[1;34m\u001b[0m\n\u001b[1;32m----> 1\u001b[1;33m \u001b[1;32massert\u001b[0m \u001b[1;32mFalse\u001b[0m\u001b[1;33m\u001b[0m\u001b[1;33m\u001b[0m\u001b[0m\n\u001b[0m",
      "\u001b[1;31mAssertionError\u001b[0m: "
     ]
    }
   ],
   "source": [
    "assert False"
   ]
  },
  {
   "cell_type": "markdown",
   "metadata": {},
   "source": [
    "# Test"
   ]
  },
  {
   "cell_type": "code",
   "execution_count": 18,
   "metadata": {},
   "outputs": [],
   "source": [
    "from data import process_data\n",
    "from data.import_data import import_clean_data\n",
    "from data.datasetobj import DatasetObject\n",
    "# from models.train import * "
   ]
  },
  {
   "cell_type": "markdown",
   "metadata": {},
   "source": [
    "### 0. shortcut"
   ]
  },
  {
   "cell_type": "markdown",
   "metadata": {},
   "source": [
    "### 1. Data"
   ]
  },
  {
   "cell_type": "code",
   "execution_count": 9,
   "metadata": {},
   "outputs": [],
   "source": [
    "from data.spectrogram import import_data\n",
    "from data.process_data import label_encode, create_dataloaders\n",
    "from sklearn.model_selection import train_test_split"
   ]
  },
  {
   "cell_type": "code",
   "execution_count": 10,
   "metadata": {},
   "outputs": [
    {
     "name": "stdout",
     "output_type": "stream",
     "text": [
      "kneel\n",
      "lie\n",
      "pickup\n",
      "sit\n",
      "stand\n",
      "standff\n",
      "walk\n"
     ]
    },
    {
     "data": {
      "text/plain": [
       "(5730, 65, 65)"
      ]
     },
     "execution_count": 10,
     "metadata": {},
     "output_type": "execute_result"
    }
   ],
   "source": [
    "columns = [f\"col_{i+1}\" for i in range(501)]\n",
    "window_size=65\n",
    "slide_size=30\n",
    "dirc = \"E:/external_data/Experiment2/spectrogram_data_by_activity_csv\"\n",
    "\n",
    "X,y  = import_data(dirc,columns=columns,window_size=window_size,slide_size=slide_size)\n",
    "X.shape"
   ]
  },
  {
   "cell_type": "code",
   "execution_count": 12,
   "metadata": {},
   "outputs": [],
   "source": [
    "X = X.reshape(*X.shape,1).transpose(0,3,1,2)"
   ]
  },
  {
   "cell_type": "code",
   "execution_count": 13,
   "metadata": {},
   "outputs": [],
   "source": [
    "y,lb = label_encode(y)"
   ]
  },
  {
   "cell_type": "code",
   "execution_count": 14,
   "metadata": {},
   "outputs": [],
   "source": [
    "X_train, X_test, y_train, y_test = train_test_split(X,y, test_size=0.2, random_state=42)\n",
    "train_loader, test_loader = create_dataloaders(X_train, y_train, X_test, y_test, train_batch_sizes=128, test_batch_sizes=200)"
   ]
  },
  {
   "cell_type": "code",
   "execution_count": 11,
   "metadata": {},
   "outputs": [
    {
     "ename": "AssertionError",
     "evalue": "",
     "output_type": "error",
     "traceback": [
      "\u001b[1;31m---------------------------------------------------------------------------\u001b[0m",
      "\u001b[1;31mAssertionError\u001b[0m                            Traceback (most recent call last)",
      "\u001b[1;32m<ipython-input-11-a871fdc9ebee>\u001b[0m in \u001b[0;36m<module>\u001b[1;34m\u001b[0m\n\u001b[1;32m----> 1\u001b[1;33m \u001b[1;32massert\u001b[0m \u001b[1;32mFalse\u001b[0m\u001b[1;33m\u001b[0m\u001b[1;33m\u001b[0m\u001b[0m\n\u001b[0m",
      "\u001b[1;31mAssertionError\u001b[0m: "
     ]
    }
   ],
   "source": [
    "assert False"
   ]
  },
  {
   "cell_type": "markdown",
   "metadata": {},
   "source": [
    "### 2. Model"
   ]
  },
  {
   "cell_type": "code",
   "execution_count": null,
   "metadata": {},
   "outputs": [],
   "source": [
    "# from models.baseline import Lambda, Classifier,CNN_module"
   ]
  },
  {
   "cell_type": "code",
   "execution_count": 15,
   "metadata": {},
   "outputs": [],
   "source": [
    "from models.self_supervised import DataAugmentation\n",
    "\n",
    "data_aug = DataAugmentation((65,65))"
   ]
  },
  {
   "cell_type": "code",
   "execution_count": 44,
   "metadata": {},
   "outputs": [],
   "source": [
    "def create_model():\n",
    "    enc = Encoder([64,128,512])\n",
    "    clf = Projection_head(512,128,head='linear')\n",
    "    model = ED_module(encoder=enc,decoder=clf)\n",
    "    return model\n",
    "\n",
    "model = create_model()"
   ]
  },
  {
   "cell_type": "code",
   "execution_count": 45,
   "metadata": {},
   "outputs": [],
   "source": [
    "from losses import SupConLoss\n",
    "\n",
    "criterion = SupConLoss(temperature=0.1,base_temperature=0.1)\n",
    "optimizer = torch.optim.SGD(list(model.parameters()), lr=0.0005)"
   ]
  },
  {
   "cell_type": "code",
   "execution_count": null,
   "metadata": {},
   "outputs": [],
   "source": []
  },
  {
   "cell_type": "code",
   "execution_count": 43,
   "metadata": {},
   "outputs": [],
   "source": [
    "del model ,criterion , optimizer\n",
    "torch.cuda.empty_cache()"
   ]
  },
  {
   "cell_type": "code",
   "execution_count": 30,
   "metadata": {},
   "outputs": [
    {
     "name": "stdout",
     "output_type": "stream",
     "text": [
      "|===========================================================================|\n",
      "|                  PyTorch CUDA memory summary, device ID 0                 |\n",
      "|---------------------------------------------------------------------------|\n",
      "|            CUDA OOMs: 0            |        cudaMalloc retries: 0         |\n",
      "|===========================================================================|\n",
      "|        Metric         | Cur Usage  | Peak Usage | Tot Alloc  | Tot Freed  |\n",
      "|---------------------------------------------------------------------------|\n",
      "| Allocated memory      |  521317 KB |     994 MB |  124630 MB |  124120 MB |\n",
      "|       from large pool |  516097 KB |     989 MB |  122986 MB |  122482 MB |\n",
      "|       from small pool |    5220 KB |       7 MB |    1643 MB |    1638 MB |\n",
      "|---------------------------------------------------------------------------|\n",
      "| Active memory         |  521317 KB |     994 MB |  124630 MB |  124120 MB |\n",
      "|       from large pool |  516097 KB |     989 MB |  122986 MB |  122482 MB |\n",
      "|       from small pool |    5220 KB |       7 MB |    1643 MB |    1638 MB |\n",
      "|---------------------------------------------------------------------------|\n",
      "| GPU reserved memory   |  563200 KB |    1064 MB |    1064 MB |  526336 KB |\n",
      "|       from large pool |  557056 KB |    1056 MB |    1056 MB |  524288 KB |\n",
      "|       from small pool |    6144 KB |       8 MB |       8 MB |    2048 KB |\n",
      "|---------------------------------------------------------------------------|\n",
      "| Non-releasable memory |   41883 KB |  240354 KB |   51612 MB |   51571 MB |\n",
      "|       from large pool |   40959 KB |  239167 KB |   48909 MB |   48869 MB |\n",
      "|       from small pool |     924 KB |    2501 KB |    2703 MB |    2702 MB |\n",
      "|---------------------------------------------------------------------------|\n",
      "| Allocations           |      75    |     108    |   18530    |   18455    |\n",
      "|       from large pool |      21    |      33    |    4278    |    4257    |\n",
      "|       from small pool |      54    |      77    |   14252    |   14198    |\n",
      "|---------------------------------------------------------------------------|\n",
      "| Active allocs         |      75    |     108    |   18530    |   18455    |\n",
      "|       from large pool |      21    |      33    |    4278    |    4257    |\n",
      "|       from small pool |      54    |      77    |   14252    |   14198    |\n",
      "|---------------------------------------------------------------------------|\n",
      "| GPU reserved segments |      17    |      26    |      26    |       9    |\n",
      "|       from large pool |      14    |      22    |      22    |       8    |\n",
      "|       from small pool |       3    |       4    |       4    |       1    |\n",
      "|---------------------------------------------------------------------------|\n",
      "| Non-releasable allocs |      22    |      31    |   10262    |   10240    |\n",
      "|       from large pool |      15    |      24    |    3419    |    3404    |\n",
      "|       from small pool |       7    |       9    |    6843    |    6836    |\n",
      "|===========================================================================|\n",
      "\n"
     ]
    }
   ],
   "source": [
    "print(torch.cuda.memory_summary(device=device, abbreviated=False))"
   ]
  },
  {
   "cell_type": "markdown",
   "metadata": {},
   "source": [
    "### 3. Training"
   ]
  },
  {
   "cell_type": "code",
   "execution_count": 43,
   "metadata": {},
   "outputs": [],
   "source": [
    "from sklearn.metrics import confusion_matrix, classification_report, accuracy_score\n",
    "# from train import train\n"
   ]
  },
  {
   "cell_type": "code",
   "execution_count": 31,
   "metadata": {},
   "outputs": [],
   "source": [
    "start = 1\n",
    "end = 100\n",
    "parallel = True"
   ]
  },
  {
   "cell_type": "code",
   "execution_count": null,
   "metadata": {},
   "outputs": [],
   "source": [
    "def pretrain(model,train_loader,start,end,optimizer,criterion,data_aug,parallel=True):\n",
    "\n",
    "    # Check device setting\n",
    "    if parallel == True:\n",
    "        print('GPU')\n",
    "        model = model.to(device)\n",
    "        data_aug = data_aug.to(device)\n",
    "\n",
    "    else:\n",
    "        print('CPU')\n",
    "        model = model.cpu()\n",
    "\n",
    "    print('Start Training')\n",
    "    record = {'train':[],'validation':[]}\n",
    "    i = start\n",
    "\n",
    "    #Loop\n",
    "    while i <= end:\n",
    "\n",
    "        print(f\"Epoch {i}: \", end='')\n",
    "\n",
    "        for b, (X, y) in enumerate(train_loader):\n",
    "\n",
    "            if parallel == True:\n",
    "\n",
    "                X = X.to(device)\n",
    "                y = y.to(device)\n",
    "\n",
    "            print(f\">\", end='')\n",
    "\n",
    "            optimizer.zero_grad()\n",
    "            \n",
    "            batch_size = X.shape[0]\n",
    "\n",
    "            X = torch.cat(data_aug(X), dim=0)\n",
    "\n",
    "            logits = model(X)\n",
    "\n",
    "            logits = torch.split(logits, [batch_size, batch_size], dim=0)\n",
    "\n",
    "            logits = torch.cat((logits[0].unsqueeze(1),logits[1].unsqueeze(1)),dim=1)\n",
    "\n",
    "            loss = criterion(logits,y)\n",
    "\n",
    "            loss.backward()\n",
    "\n",
    "            optimizer.step()\n",
    "\n",
    "        # One epoch completed\n",
    "        l = loss.tolist()\n",
    "        record['train'].append(l)\n",
    "        print(f' loss: {l} ',end='')\n",
    "\n",
    "    # if (test_loader != None) and i%100 ==0 :\n",
    "    #     acc = short_evaluation(model,test_loader,parallel)\n",
    "    #     record['validation'].append(acc)\n",
    "    #     print(f' accuracy: {acc}')\n",
    "    # else:\n",
    "        print('')\n",
    "\n",
    "        i += 1\n",
    "        \n",
    "        del X,y,logits\n",
    "\n",
    "    model = model.cpu()\n",
    "    \n",
    "    return model\n",
    "\n",
    "model = pretrain(model,train_loader,start,end,optimizer,criterion,data_aug,parallel)"
   ]
  },
  {
   "cell_type": "code",
   "execution_count": 60,
   "metadata": {},
   "outputs": [],
   "source": [
    "def freeze_network(model):\n",
    "    for _, p in model.named_parameters():\n",
    "        p.requires_grad = False\n",
    "    return model\n",
    "\n",
    "def create_model(enc):\n",
    "    if enc == None:\n",
    "        enc = Encoder([64,128,512])\n",
    "    else:\n",
    "        enc = freeze_network(enc)\n",
    "    clf = nn.Linear(512,7)\n",
    "    model = ED_module(encoder=enc,decoder=clf)\n",
    "    return model\n",
    "\n",
    "cnn = create_model(enc)"
   ]
  },
  {
   "cell_type": "code",
   "execution_count": 62,
   "metadata": {},
   "outputs": [
    {
     "name": "stdout",
     "output_type": "stream",
     "text": [
      "GPU\n",
      "Start Training\n",
      "Epoch 1: >>>>>>>>>>>>>>>>>>>>>>>>>>>>>>>>>>> loss: 1.8947129249572754 \n"
     ]
    }
   ],
   "source": [
    "from train import train\n",
    "\n",
    "criterion = nn.CrossEntropyLoss()\n",
    "optimizer = torch.optim.SGD(list(cnn.parameters()), lr=0.0005)\n",
    "\n",
    "start = 1\n",
    "end = 1\n",
    "parallel = True\n",
    "\n",
    "\n",
    "cnn = train(cnn,train_loader,criterion,optimizer,end,start,test_loader,parallel)\n",
    "\n"
   ]
  },
  {
   "cell_type": "code",
   "execution_count": null,
   "metadata": {},
   "outputs": [],
   "source": [
    "assert False"
   ]
  },
  {
   "cell_type": "markdown",
   "metadata": {},
   "source": [
    "### 4. Testing"
   ]
  },
  {
   "cell_type": "code",
   "execution_count": null,
   "metadata": {},
   "outputs": [],
   "source": [
    "cmtx,cls = evaluation(model,test_loader)\n",
    "cmtx = cmtx_table(cmtx,label_encoder=None)\n",
    "cmtx"
   ]
  },
  {
   "cell_type": "code",
   "execution_count": null,
   "metadata": {},
   "outputs": [],
   "source": []
  },
  {
   "cell_type": "code",
   "execution_count": null,
   "metadata": {},
   "outputs": [],
   "source": [
    "train_loss = pd.DataFrame(record['train'],columns=['train_loss'])"
   ]
  },
  {
   "cell_type": "markdown",
   "metadata": {},
   "source": [
    "### 5. Saving"
   ]
  },
  {
   "cell_type": "code",
   "execution_count": null,
   "metadata": {},
   "outputs": [],
   "source": [
    "from models.train import save_checkpoint, make_directory"
   ]
  },
  {
   "cell_type": "code",
   "execution_count": null,
   "metadata": {},
   "outputs": [],
   "source": [
    "path = make_directory('V2cSimCLR',epoch=500,filepath='./record/')\n",
    "train_loss.to_csv(path+'_loss.csv')\n",
    "# cls.to_csv(path+'_report.csv')\n",
    "# cmtx.to_csv(path+'_cmtx.csv')"
   ]
  },
  {
   "cell_type": "code",
   "execution_count": null,
   "metadata": {},
   "outputs": [],
   "source": [
    "path = make_directory('V2cSimCLR_pretrain',epoch=500)\n",
    "save_checkpoint(model, optimizer, 500, path)"
   ]
  },
  {
   "cell_type": "code",
   "execution_count": null,
   "metadata": {},
   "outputs": [],
   "source": []
  }
 ],
 "metadata": {
  "kernelspec": {
   "display_name": "Python 3",
   "language": "python",
   "name": "python3"
  },
  "language_info": {
   "codemirror_mode": {
    "name": "ipython",
    "version": 3
   },
   "file_extension": ".py",
   "mimetype": "text/x-python",
   "name": "python",
   "nbconvert_exporter": "python",
   "pygments_lexer": "ipython3",
   "version": "3.7.6"
  }
 },
 "nbformat": 4,
 "nbformat_minor": 2
}
