{
 "cells": [
  {
   "cell_type": "code",
   "execution_count": 1,
   "metadata": {},
   "outputs": [],
   "source": [
    "import numpy as np\n",
    "import pandas as pd\n",
    "import seaborn as sns  # for heatmaps\n",
    "import torch\n",
    "from sklearn.metrics import confusion_matrix\n",
    "import matplotlib.pyplot as plt\n",
    "%matplotlib inline"
   ]
  },
  {
   "cell_type": "code",
   "execution_count": 5,
   "metadata": {},
   "outputs": [],
   "source": [
    "DEVICE = torch.device(\"cuda:0\" if torch.cuda.is_available() else \"cpu\")\n",
    "device = DEVICE\n",
    "torch.cuda.set_device(DEVICE)"
   ]
  },
  {
   "cell_type": "code",
   "execution_count": 6,
   "metadata": {},
   "outputs": [
    {
     "data": {
      "text/plain": [
       "torch.device"
      ]
     },
     "execution_count": 6,
     "metadata": {},
     "output_type": "execute_result"
    }
   ],
   "source": [
    "type(device)"
   ]
  },
  {
   "cell_type": "code",
   "execution_count": null,
   "metadata": {},
   "outputs": [],
   "source": [
    "assert False"
   ]
  },
  {
   "cell_type": "markdown",
   "metadata": {},
   "source": [
    "# Factory"
   ]
  },
  {
   "cell_type": "code",
   "execution_count": null,
   "metadata": {},
   "outputs": [],
   "source": []
  },
  {
   "cell_type": "markdown",
   "metadata": {},
   "source": [
    "## Model\n",
    "\n",
    "**Input argument**: tensors \\\n",
    "**Output**: tensors \n",
    "- AlexNet\n",
    "- ResNet  \n",
    "- FrameCNN\n",
    "- ShallowCNN "
   ]
  },
  {
   "cell_type": "code",
   "execution_count": 7,
   "metadata": {},
   "outputs": [],
   "source": [
    "import torch \n",
    "from torch import nn\n",
    "from torchsummary import summary\n"
   ]
  },
  {
   "cell_type": "code",
   "execution_count": 26,
   "metadata": {},
   "outputs": [],
   "source": [
    "from models.cnn import create_alexnet,create_resnet18\n",
    "from training.finetuning import FineTuneCNN"
   ]
  },
  {
   "cell_type": "code",
   "execution_count": 43,
   "metadata": {},
   "outputs": [],
   "source": [
    "import torch\n",
    "from torch import Tensor\n",
    "import torch.nn as nn\n",
    "from torchsummary import summary\n",
    "from models.utils import Lambda\n",
    "\n",
    "class SmallEncoder(nn.Module):\n",
    "    def __init__(self,l0,l1,l2,l3):\n",
    "        \"\"\"\n",
    "        3-layer CNN Encoder for CNN-LSTM model\n",
    "\n",
    "        Arguments:\n",
    "        l1 (int): number of neuron on the 1st layer\n",
    "        l2 (int): number of neuron on the 2nd layer\n",
    "        l3 (int): number of neuron on the 3rd layer\n",
    "        \"\"\"\n",
    "        super(SmallEncoder, self).__init__()\n",
    "        ### 1st ###\n",
    "        self.conv1 = nn.Conv2d(l0,l1,kernel_size=4,stride=2)\n",
    "        self.norm1 = nn.BatchNorm2d(l1) # nn.BatchNorm2d()\n",
    "        self.actv1 = nn.ReLU()\n",
    "        self.pool1 = nn.MaxPool2d(kernel_size=(2,2))\n",
    "        ### 2nd ###\n",
    "        self.conv2 = nn.Conv2d(l1,l2,kernel_size=3,stride=2)\n",
    "        self.norm2 = nn.BatchNorm2d(l2)\n",
    "        self.actv2 = nn.ReLU()\n",
    "        self.pool2 = nn.MaxPool2d(kernel_size=(2,2))\n",
    "        ### 3rd ###\n",
    "        self.conv3 = nn.Conv2d(l2,l3,kernel_size=2,stride=2)\n",
    "        self.norm3 = Lambda(lambda x:x)\n",
    "        self.actv3 = nn.Tanh()\n",
    "        self.pool3 = nn.MaxPool2d(kernel_size=(1,1))\n",
    "        self.adapool = nn.AdaptiveAvgPool2d((1,1))\n",
    "        self.flatten = nn.Flatten()\n",
    "\n",
    "\n",
    "    def forward(self,X):\n",
    "        X = self.pool1(self.actv1(self.norm1(self.conv1(X))))\n",
    "        X = self.pool2(self.actv2(self.norm2(self.conv2(X))))\n",
    "        X = self.pool3(self.actv3(self.norm3(self.conv3(X))))\n",
    "        X = self.adapool(X)\n",
    "        X = self.flatten(X)\n",
    "        return X\n",
    "\n",
    "class LSTM(nn.Module):\n",
    "    def __init__(self,seq_size,feature_size):\n",
    "        \"\"\"\n",
    "        2 layer LSTM model: feature_size --> feature_size\n",
    "\n",
    "        Arguments:\n",
    "        seq_size (int): length of the sequence\n",
    "        feature_size (int): feature size of each interval in the sequence\n",
    "        \"\"\"\n",
    "        super(LSTM, self).__init__()\n",
    "        self.lstm1 = nn.LSTM(feature_size,feature_size,num_layers=2,bidirectional=True)\n",
    "        # self.lstm2 = nn.LSTM(feature_size,feature_size)\n",
    "\n",
    "\n",
    "    def forward(self,X):\n",
    "        X, (h_0,c_0) = self.lstm1(X)\n",
    "        # X, (h_0,c_0) = self.lstm2(X, (h_0,c_0))\n",
    "        X = torch.flatten(X,1)\n",
    "        return X\n",
    "\n",
    "    \n",
    "class DecodeLSTM(nn.Module):\n",
    "    def __init__(self,seq_size,feature_size,**kwargs):\n",
    "        \"\"\"\n",
    "        2 layer LSTM model: feature_size --> feature_size\n",
    "\n",
    "        Arguments:\n",
    "        seq_size (int): length of the sequence\n",
    "        feature_size (int): feature size of each interval in the sequence\n",
    "        \"\"\"\n",
    "        super(DecodeLSTM, self).__init__()\n",
    "        self.lstm1 = nn.LSTM(feature_size,200,num_layers=2,bidirectional=True)\n",
    "#         self.lstm2 = nn.LSTM(400,200,bidirectional=True)\n",
    "\n",
    "\n",
    "    def forward(self,X):\n",
    "        X, (h_0,c_0) = self.lstm1(X)\n",
    "#         X, (h_0,c_0) = self.lstm2(X, (h_0,c_0))\n",
    "        X = torch.flatten(X,1)\n",
    "        return X\n",
    "\n",
    "\n",
    "class CNN_LSTM(nn.Module):\n",
    "\n",
    "    def __init__(self,n_seq=25,n_channel=1,n_feature=128,n_classes=10):\n",
    "        super(CNN_LSTM, self).__init__()\n",
    "\n",
    "        self.n_seq = n_seq\n",
    "        self.n_feature = n_feature\n",
    "        self.n_classes = n_classes\n",
    "        self.den_input = self.n_seq*self.n_feature*2 # 2 for bidirectional\n",
    "        self.n_channel = n_channel\n",
    "\n",
    "        self.cnn = SmallEncoder(self.n_channel,32,64,self.n_feature)\n",
    "        self.lstm = LSTM(self.n_seq,self.n_feature)\n",
    "        self.dcn = nn.Sequential(nn.Linear(self.den_input,64),\n",
    "                                 nn.ReLU(),\n",
    "                                 nn.Linear(64,self.n_classes),\n",
    "                                 nn.Softmax(1))\n",
    "\n",
    "    def forward(self,X):\n",
    "        imgsize = X.shape[2:]\n",
    "        X = X.view(-1,*imgsize)\n",
    "        X = self.cnn(X)\n",
    "        X = X.view(-1,self.n_seq,self.n_feature)\n",
    "        X = self.lstm(X)\n",
    "        X = self.dcn(X)\n",
    "        return X\n"
   ]
  },
  {
   "cell_type": "code",
   "execution_count": null,
   "metadata": {},
   "outputs": [],
   "source": [
    "hidden_layer = 128 # None, 64, 128, 512  \n",
    "width = 8 # 1,4\n",
    "\n",
    "alexnet = lambda : create_alexnet((1,8))\n",
    "resnet = lambda : create_resnet18((1,8))\n",
    "lstm = lambda: (LSTM(1600,70),224000)"
   ]
  },
  {
   "cell_type": "code",
   "execution_count": null,
   "metadata": {},
   "outputs": [],
   "source": []
  },
  {
   "cell_type": "code",
   "execution_count": 162,
   "metadata": {},
   "outputs": [],
   "source": [
    "class ConvNet1D(nn.Module):\n",
    "    \n",
    "    def __init__(self,in_channels=70,**kwargs):\n",
    "        super(ConvNet1D, self).__init__()\n",
    "        # parameters \n",
    "        layers = kwargs.get('layers',[128,256,512])\n",
    "        kernel_sizes = kwargs.get('kernel_sizes',[64,16,4])\n",
    "        strides = kwargs.get('strides',[4,4,4])\n",
    "        assert len(layers) == len(kernel_sizes) == len(strides)\n",
    "        l0 = in_channels \n",
    "        l1,l2,l3 = layers\n",
    "        k1,k2,k3 = kernel_sizes\n",
    "        s1,s2,s3 = strides\n",
    "        self.conv1 = nn.Conv1d(in_channels=l0,out_channels=l1,kernel_size=k1,stride=s1)\n",
    "        self.conv2 = nn.Conv1d(in_channels=l1,out_channels=l1,kernel_size=k1,stride=s1)\n",
    "        self.conv3 = nn.Conv1d(in_channels=l1,out_channels=l2,kernel_size=k2,stride=s2)\n",
    "        self.conv4 = nn.Conv1d(in_channels=l2,out_channels=l2,kernel_size=k2,stride=s2)\n",
    "        self.conv5 = nn.Conv1d(in_channels=l2,out_channels=l3,kernel_size=k3,stride=s3)\n",
    "        self.conv6 = nn.Conv1d(in_channels=l3,out_channels=l3,kernel_size=k3,stride=s3)\n",
    "        self.norm1 = nn.BatchNorm1d(l1,affine=False)\n",
    "        self.norm2 = nn.BatchNorm1d(l2,affine=False)\n",
    "        self.norm3 = nn.BatchNorm1d(l3,affine=False)\n",
    "        self.flatten = nn.Flatten()\n",
    "    \n",
    "    def forward(self,X):\n",
    "        X = nn.functional.relu(self.norm1(self.conv1(X)))\n",
    "        X = nn.functional.relu(self.conv2(X))\n",
    "        X = nn.functional.relu(self.norm2(self.conv3(X)))\n",
    "        X = nn.functional.relu(self.conv4(X))\n",
    "        X = nn.functional.relu(self.norm3(self.conv5(X)))\n",
    "        X = nn.functional.relu(self.conv6(X))\n",
    "        X = self.flatten(X)\n",
    "        return X"
   ]
  },
  {
   "cell_type": "code",
   "execution_count": 165,
   "metadata": {},
   "outputs": [
    {
     "name": "stdout",
     "output_type": "stream",
     "text": [
      "----------------------------------------------------------------\n",
      "        Layer (type)               Output Shape         Param #\n",
      "================================================================\n",
      "            Conv1d-1            [64, 128, 1585]         573,568\n",
      "       BatchNorm1d-2            [64, 128, 1585]               0\n",
      "            Conv1d-3             [64, 128, 381]       1,048,704\n",
      "            Conv1d-4              [64, 256, 92]         524,544\n",
      "       BatchNorm1d-5              [64, 256, 92]               0\n",
      "            Conv1d-6              [64, 256, 20]       1,048,832\n",
      "            Conv1d-7               [64, 512, 5]         524,800\n",
      "       BatchNorm1d-8               [64, 512, 5]               0\n",
      "            Conv1d-9               [64, 512, 1]       1,049,088\n",
      "          Flatten-10                  [64, 512]               0\n",
      "================================================================\n",
      "Total params: 4,769,536\n",
      "Trainable params: 4,769,536\n",
      "Non-trainable params: 0\n",
      "----------------------------------------------------------------\n",
      "Input size (MB): 109.38\n",
      "Forward/backward pass size (MB): 250.44\n",
      "Params size (MB): 18.19\n",
      "Estimated Total Size (MB): 378.01\n",
      "----------------------------------------------------------------\n"
     ]
    }
   ],
   "source": [
    "def test_model():\n",
    "    t = torch.rand(64,70,6400)\n",
    "#     t = t.permute(0,2,1)\n",
    "    model = ConvNet1D()\n",
    "#     builder = lambda: (DecodeLSTM(1600,70),224000)\n",
    "#     model = FineTuneCNN(builder,model_path=None,hidden_layer=64,n_classes=6)\n",
    "#     return model(t).shape\n",
    "    return model\n",
    "\n",
    "# test_model()\n",
    "summary(test_model(),input_size=(70,6400),batch_size=64,device='cpu')"
   ]
  },
  {
   "cell_type": "markdown",
   "metadata": {},
   "source": [
    "## Loss\n",
    "\n",
    "**Input argument**: tensors \\\n",
    "**Output**: loss \n",
    "- Cross Entropy Loss (EXAMPLE)\n",
    "- Triplet loss  \n",
    "- NT-Xent\n",
    "- InfoNCE"
   ]
  },
  {
   "cell_type": "code",
   "execution_count": null,
   "metadata": {},
   "outputs": [],
   "source": []
  },
  {
   "cell_type": "markdown",
   "metadata": {},
   "source": [
    "##    Train \n",
    "\n",
    "**Input argument**: model, dataloader, loss \\\n",
    "**Output**: model \n",
    "- Supervised learning\n",
    "- Autoencoder Pretraining\n",
    "- Predictive PreTraining \n",
    "- Contrastive Pretraining\n",
    "- Time Contrastive learning\n",
    "- Contrastive Predictive Coding "
   ]
  },
  {
   "cell_type": "code",
   "execution_count": 1,
   "metadata": {},
   "outputs": [],
   "source": [
    "from poutyne import Model,Experiment\n",
    "from losses import NT_Xent\n",
    "from models.utils import Classifier\n",
    "from torch.nn import functional as F\n",
    "\n",
    "import torch \n",
    "from torch import nn"
   ]
  },
  {
   "cell_type": "code",
   "execution_count": null,
   "metadata": {},
   "outputs": [],
   "source": [
    "class Supervised_Learning(object):\n",
    "    \"\"\"\n",
    "    Args:\n",
    "    encoder_builder (func): callable function of the primary encoder (torch.nn.Module)\n",
    "    batch_size (int): batch size\n",
    "\n",
    "    kwargs:\n",
    "    encoder_builder2 (func): callable function of the secondary encoder (torch.nn.Module)\n",
    "    temperature (float): temperature of NT-Xent\n",
    "    optimizer (func): callable function of optimizer (torch.optim.Optimizer)\n",
    "    supervision (bool): trained with label with Supervised Contrastive Learning (Tian 2020)\n",
    "    \"\"\"\n",
    "\n",
    "    def __init__(self,model,**kwargs):\n",
    "        # kwargs\n",
    "        criterion = kwargs.get('criterion',nn.CrossEntropyLoss)\n",
    "        optimizer = kwargs.get('optimizer',torch.optim.Adam)\n",
    "        lr = kwargs.get('lr',0.001)\n",
    "        # overall\n",
    "        self.model = model\n",
    "        self.criterion = criterion(**kwargs)\n",
    "        self.optimizer = optimizer(list(self.model.parameters()), lr=lr)\n",
    "\n",
    "    def train(self,train_loader,epochs=250,verbose=True,rtn_history=True,device=None):\n",
    "        \"\"\"\n",
    "        Return trained model (and history if rtn_history = True)\n",
    "\n",
    "        Args:\n",
    "        train_loader (torch.utils.data.dataloader.DataLoader) - the pair dataset\n",
    "        epochs (int) - epochs\n",
    "        verbose (bool) - verbose\n",
    "        rtn_history (bool) - return both the encoder and history\n",
    "        device (torch.device) - model to be trained on\n",
    "\n",
    "        Return\n",
    "        \"\"\"\n",
    "        history = {'loss':[]}\n",
    "        torch.optim.Optimizer\n",
    "        if device:\n",
    "            self.model = self.model.to(device)\n",
    "            self.criterion = self.criterion.to(device)\n",
    "\n",
    "        for i in range(epochs):\n",
    "            if verbose: print(f'Epoch {i+1} ',end='')\n",
    "            for items in train_loader:\n",
    "\n",
    "                if device:\n",
    "                    X,y = [i.to(device) for i in items]\n",
    "\n",
    "                self.optimizer.zero_grad()\n",
    "                y_pred = self.model(X)\n",
    "\n",
    "                # SupConLoss\n",
    "                if self.supervision:\n",
    "                    loss = self.criterion(y_pred,y)\n",
    "\n",
    "                loss.backward()\n",
    "                self.optimizer.step()\n",
    "\n",
    "                X = X.cpu()\n",
    "                y_pred = y_pred.cpu()\n",
    "                y = y.cpu()\n",
    "                del X,y_pred,y\n",
    "                if verbose: print('>',end='')\n",
    "\n",
    "            loss = loss.tolist()\n",
    "            history['loss'].append(loss)\n",
    "            if verbose: print(f' loss: {loss}')\n",
    "\n",
    "        if device:\n",
    "            self.model = self.model.cpu()\n",
    "            self.criterion = self.criterion.cpu()\n",
    "\n",
    "        if rtn_history:\n",
    "            return self.model,history\n",
    "        else:\n",
    "            return self.model"
   ]
  },
  {
   "cell_type": "code",
   "execution_count": 15,
   "metadata": {},
   "outputs": [
    {
     "data": {
      "text/plain": [
       "torch.utils.data.dataloader.DataLoader"
      ]
     },
     "execution_count": 15,
     "metadata": {},
     "output_type": "execute_result"
    }
   ],
   "source": [
    "type(torch.utils.data.DataLoader(torch.rand(1,1)))"
   ]
  },
  {
   "cell_type": "markdown",
   "metadata": {},
   "source": [
    "## Validation\n",
    "\n",
    "**Input argument**: model, dataframe, train \\\n",
    "**Output**: score/scores \n",
    "- leave-One-Out Validation\n",
    "- Cross Validation  \n",
    "- Cross-Domain Validation\n",
    "- Sample Efficiency "
   ]
  },
  {
   "cell_type": "markdown",
   "metadata": {},
   "source": [
    "## Misc"
   ]
  },
  {
   "cell_type": "code",
   "execution_count": null,
   "metadata": {},
   "outputs": [],
   "source": []
  },
  {
   "cell_type": "markdown",
   "metadata": {},
   "source": [
    "# Laboratory"
   ]
  },
  {
   "cell_type": "code",
   "execution_count": 1,
   "metadata": {},
   "outputs": [],
   "source": [
    "k = \"f0 Range f0 Slope f0 Jitter_(loc) Jitter_(abs) Shimmer_(loc) Shimmer_(abs) Pauses_Ratio Speaking_Rate Articulation_Rate Syllable_Duration preFEV1 postFEV1 mMRC CAT\""
   ]
  },
  {
   "cell_type": "code",
   "execution_count": 3,
   "metadata": {},
   "outputs": [
    {
     "data": {
      "text/plain": [
       "['f0',\n",
       " 'Range',\n",
       " 'f0',\n",
       " 'Slope',\n",
       " 'f0',\n",
       " 'Jitter_(loc)',\n",
       " 'Jitter_(abs)',\n",
       " 'Shimmer_(loc)',\n",
       " 'Shimmer_(abs)',\n",
       " 'Pauses_Ratio',\n",
       " 'Speaking_Rate',\n",
       " 'Articulation_Rate',\n",
       " 'Syllable_Duration',\n",
       " 'preFEV1',\n",
       " 'postFEV1',\n",
       " 'mMRC',\n",
       " 'CAT']"
      ]
     },
     "execution_count": 3,
     "metadata": {},
     "output_type": "execute_result"
    }
   ],
   "source": []
  },
  {
   "cell_type": "code",
   "execution_count": 7,
   "metadata": {},
   "outputs": [
    {
     "data": {
      "text/plain": [
       "'f0Rangef0Slopef0Jitter_(loc)Jitter_(abs)Shimmer_(loc)Shimmer_(abs)Pauses_RatioSpeaking_RateArticulation_RateSyllable_DurationpreFEV1postFEV1mMRCCAT'"
      ]
     },
     "execution_count": 7,
     "metadata": {},
     "output_type": "execute_result"
    }
   ],
   "source": [
    "''.join(k.split())"
   ]
  },
  {
   "cell_type": "code",
   "execution_count": 12,
   "metadata": {},
   "outputs": [
    {
     "data": {
      "text/plain": [
       "'f0;Range;f0;Slope;f0;Jitter_(loc);Jitter_(abs);Shimmer_(loc);Shimmer_(abs);Pauses_Ratio;Speaking_Rate;Articulation_Rate;Syllable_Duration;preFEV1;postFEV1;mMRC;CAT;'"
      ]
     },
     "execution_count": 12,
     "metadata": {},
     "output_type": "execute_result"
    }
   ],
   "source": [
    "w = ''\n",
    "for i in k.split():\n",
    "    w += i + ';'\n",
    "w"
   ]
  },
  {
   "cell_type": "code",
   "execution_count": 9,
   "metadata": {},
   "outputs": [
    {
     "data": {
      "text/plain": [
       "['f0',\n",
       " 'Range',\n",
       " 'f0',\n",
       " 'Slope',\n",
       " 'f0',\n",
       " 'Jitter_(loc)',\n",
       " 'Jitter_(abs)',\n",
       " 'Shimmer_(loc)',\n",
       " 'Shimmer_(abs)',\n",
       " 'Pauses_Ratio',\n",
       " 'Speaking_Rate',\n",
       " 'Articulation_Rate',\n",
       " 'Syllable_Duration',\n",
       " 'preFEV1',\n",
       " 'postFEV1',\n",
       " 'mMRC',\n",
       " 'CAT']"
      ]
     },
     "execution_count": 9,
     "metadata": {},
     "output_type": "execute_result"
    }
   ],
   "source": [
    "k.split()"
   ]
  },
  {
   "cell_type": "code",
   "execution_count": 2,
   "metadata": {},
   "outputs": [],
   "source": [
    "two = 2*torch.ones(2,3,5)"
   ]
  },
  {
   "cell_type": "code",
   "execution_count": 4,
   "metadata": {},
   "outputs": [
    {
     "data": {
      "text/plain": [
       "torch.Size([6, 3, 5])"
      ]
     },
     "execution_count": 4,
     "metadata": {},
     "output_type": "execute_result"
    }
   ],
   "source": [
    "torch.cat([two for _ in range(3)]).shape"
   ]
  },
  {
   "cell_type": "code",
   "execution_count": null,
   "metadata": {},
   "outputs": [],
   "source": []
  }
 ],
 "metadata": {
  "kernelspec": {
   "display_name": "Python 3",
   "language": "python",
   "name": "python3"
  },
  "language_info": {
   "codemirror_mode": {
    "name": "ipython",
    "version": 3
   },
   "file_extension": ".py",
   "mimetype": "text/x-python",
   "name": "python",
   "nbconvert_exporter": "python",
   "pygments_lexer": "ipython3",
   "version": "3.7.6"
  }
 },
 "nbformat": 4,
 "nbformat_minor": 2
}
