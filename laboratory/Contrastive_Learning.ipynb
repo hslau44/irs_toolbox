{
 "cells": [
  {
   "cell_type": "code",
   "execution_count": 1,
   "metadata": {},
   "outputs": [],
   "source": [
    "import os\n",
    "import sys\n",
    "from time import gmtime, strftime\n",
    "\n",
    "module_path = os.path.abspath(os.path.join('..'))\n",
    "if module_path not in sys.path:\n",
    "    sys.path.append(module_path)"
   ]
  },
  {
   "cell_type": "code",
   "execution_count": 2,
   "metadata": {},
   "outputs": [],
   "source": [
    "import numpy as np\n",
    "import pandas as pd\n",
    "import torch\n",
    "import poutyne\n",
    "from poutyne import Model,Experiment"
   ]
  },
  {
   "cell_type": "code",
   "execution_count": 3,
   "metadata": {},
   "outputs": [],
   "source": [
    "from data.custom_data import filepath_dataframe\n",
    "from data.selection import Selection\n",
    "from data.transformation import Transform_CnnLstmS,Transform_CnnS\n",
    "from data.torchData import DataLoadings,DataLoading\n",
    "\n",
    "from data.custom_data import nucPaired_fpDataframe\n",
    "from data.torchData import PairDataLoading,DataLoading\n",
    "from training.contrastive_pretraining import Contrastive_PreTraining\n",
    "from training.finetuning import FineTuneCNN\n",
    "\n",
    "import models"
   ]
  },
  {
   "cell_type": "code",
   "execution_count": 5,
   "metadata": {},
   "outputs": [
    {
     "name": "stdout",
     "output_type": "stream",
     "text": [
      "Experiment Name:  AlexNet_Supervised_EXP7-NUC1-Room1-Amp-RandomSplit-ResReduced_Comment-TestConLn\n",
      "Cuda Availability:  True\n"
     ]
    }
   ],
   "source": [
    "#####################################################################################################################\n",
    "\n",
    "# random seed\n",
    "seed = 42\n",
    "np.random.seed(seed)\n",
    "torch.manual_seed(seed)\n",
    "torch.cuda.manual_seed(seed)\n",
    "\n",
    "# gpu setting\n",
    "DEVICE = torch.device(\"cuda:0\" if torch.cuda.is_available() else \"cpu\")\n",
    "torch.cuda.set_device(DEVICE)\n",
    "device = DEVICE\n",
    "\n",
    "## data directory\n",
    "data_dir  = 'E:\\\\external_data\\\\opera_csi\\\\Session_2\\\\experiment_data\\\\experiment_data\\\\exp_7_amp_spec_only\\\\npy_format'\n",
    "readtype = 'npy'\n",
    "splitchar = '\\\\'\n",
    "fpath = '.'\n",
    "\n",
    "# data selection\n",
    "dataselection_name = 'EXP7-NUC1-Room1-Amp-RandomSplit-ResReduced'\n",
    "\n",
    "data_selection = Selection(split='random',test_sub=0.2,val_sub=0.1,\n",
    "                           nuc='NUC1',room=1,sample_per_class=None)\n",
    "\n",
    "# data loading\n",
    "transform = Transform_CnnS()\n",
    "batch_size = 64\n",
    "num_workers = 0\n",
    "\n",
    "# training\n",
    "optimizer_builder = torch.optim.SGD\n",
    "lr = 0.001\n",
    "pretrain_epochs = 1\n",
    "finetune_epochs = 1\n",
    "\n",
    "# model\n",
    "builder = models.cnn.create_alexnet\n",
    "network_name = 'AlexNet'\n",
    "\n",
    "# Experiment Name\n",
    "comment = ''\n",
    "exp_name = f'{network_name}_NTXent_{dataselection_name}_Comment-{comment}'\n",
    "\n",
    "# auto\n",
    "record_dir = os.path.join(fpath,'record')\n",
    "model_dir = os.path.join(fpath,'saved_model')\n",
    "model_fname = os.path.join(model_dir,f'Encoder___{exp_name}')\n",
    "print('Experiment Name: ',exp_name)\n",
    "print('Cuda Availability: ',torch.cuda.is_available())"
   ]
  },
  {
   "cell_type": "code",
   "execution_count": 6,
   "metadata": {},
   "outputs": [],
   "source": [
    "# -----------------------------------Main-------------------------------------------\n",
    "\n",
    "# if __name__ == '__main__':\n",
    "\n",
    "# data preparation\n",
    "df = filepath_dataframe(data_dir,splitchar)\n",
    "df_train,df_val,df_test = data_selection(df)"
   ]
  },
  {
   "cell_type": "code",
   "execution_count": 9,
   "metadata": {},
   "outputs": [],
   "source": [
    "##### FINE-TUNING #####\n",
    "\n",
    "# data loading\n",
    "data_loading = DataLoading(transform=transform,batch_size=batch_size,readtype=readtype,\n",
    "                           num_workers=num_workers,drop_last=True)\n",
    "test_loading = DataLoading(transform=transform,batch_size=len(df_test),readtype=readtype,\n",
    "                           num_workers=num_workers,drop_last=True)\n",
    "\n",
    "train_loader = data_loading(df_train)\n",
    "val_loader   = data_loading(df_val)\n",
    "test_loader  = test_loading(df_test)\n",
    "\n",
    "# load and create model\n",
    "model = FineTuneCNN(model_path=model_fname,\n",
    "                    encoder_builder=builder,\n",
    "                    n_classes=df.activity.nunique())"
   ]
  },
  {
   "cell_type": "code",
   "execution_count": 10,
   "metadata": {},
   "outputs": [
    {
     "name": "stdout",
     "output_type": "stream",
     "text": [
      "\u001b[35mEpoch: \u001b[36m1/20 \u001b[35mStep: \u001b[36m20/20 \u001b[35m100.00% |\u001b[35m█████████████████████████\u001b[35m|\u001b[32m36.57s \u001b[35mloss:\u001b[94m 1106.835609\u001b[35m acc:\u001b[94m 29.921875\u001b[35m fscore_micro:\u001b[94m 0.299219\u001b[35m fscore_macro:\u001b[94m 0.227387\u001b[35m val_loss:\u001b[94m 349.071716\u001b[35m val_acc:\u001b[94m 30.864197\u001b[35m val_fscore_micro:\u001b[94m 0.308642\u001b[35m val_fscore_macro:\u001b[94m 0.204785\u001b[0m\n",
      "\u001b[35mEpoch: \u001b[36m2/20 \u001b[35mStep: \u001b[36m20/20 \u001b[35m100.00% |\u001b[35m█████████████████████████\u001b[35m|\u001b[32m36.18s \u001b[35mloss:\u001b[94m 177.697598\u001b[35m acc:\u001b[94m 34.609375\u001b[35m fscore_micro:\u001b[94m 0.346094\u001b[35m fscore_macro:\u001b[94m 0.271254\u001b[35m val_loss:\u001b[94m 32.411316\u001b[35m val_acc:\u001b[94m 25.308641\u001b[35m val_fscore_micro:\u001b[94m 0.253086\u001b[35m val_fscore_macro:\u001b[94m 0.240315\u001b[0m\n",
      "\u001b[35mEpoch: \u001b[36m3/20 \u001b[35mStep: \u001b[36m20/20 \u001b[35m100.00% |\u001b[35m█████████████████████████\u001b[35m|\u001b[32m36.44s \u001b[35mloss:\u001b[94m 34.033852\u001b[35m acc:\u001b[94m 33.359375\u001b[35m fscore_micro:\u001b[94m 0.333594\u001b[35m fscore_macro:\u001b[94m 0.234944\u001b[35m val_loss:\u001b[94m 22.540155\u001b[35m val_acc:\u001b[94m 35.802467\u001b[35m val_fscore_micro:\u001b[94m 0.358025\u001b[35m val_fscore_macro:\u001b[94m 0.270895\u001b[0m\n",
      "\u001b[35mEpoch: \u001b[36m4/20 \u001b[35mStep: \u001b[36m20/20 \u001b[35m100.00% |\u001b[35m█████████████████████████\u001b[35m|\u001b[32m36.41s \u001b[35mloss:\u001b[94m 21.882629\u001b[35m acc:\u001b[94m 33.046875\u001b[35m fscore_micro:\u001b[94m 0.330469\u001b[35m fscore_macro:\u001b[94m 0.261862\u001b[35m val_loss:\u001b[94m 11.339959\u001b[35m val_acc:\u001b[94m 27.160492\u001b[35m val_fscore_micro:\u001b[94m 0.271605\u001b[35m val_fscore_macro:\u001b[94m 0.182859\u001b[0m\n",
      "\u001b[35mEpoch: \u001b[36m5/20 \u001b[35mStep: \u001b[36m20/20 \u001b[35m100.00% |\u001b[35m█████████████████████████\u001b[35m|\u001b[32m36.36s \u001b[35mloss:\u001b[94m 17.713960\u001b[35m acc:\u001b[94m 32.109375\u001b[35m fscore_micro:\u001b[94m 0.321094\u001b[35m fscore_macro:\u001b[94m 0.249124\u001b[35m val_loss:\u001b[94m 12.575262\u001b[35m val_acc:\u001b[94m 25.925926\u001b[35m val_fscore_micro:\u001b[94m 0.259259\u001b[35m val_fscore_macro:\u001b[94m 0.165565\u001b[0m\n",
      "\u001b[35mEpoch: \u001b[36m6/20 \u001b[35mStep: \u001b[36m20/20 \u001b[35m100.00% |\u001b[35m█████████████████████████\u001b[35m|\u001b[32m37.30s \u001b[35mloss:\u001b[94m 16.991293\u001b[35m acc:\u001b[94m 30.781250\u001b[35m fscore_micro:\u001b[94m 0.307813\u001b[35m fscore_macro:\u001b[94m 0.244828\u001b[35m val_loss:\u001b[94m 8.100918\u001b[35m val_acc:\u001b[94m 25.925926\u001b[35m val_fscore_micro:\u001b[94m 0.259259\u001b[35m val_fscore_macro:\u001b[94m 0.147507\u001b[0m\n",
      "\u001b[35mEpoch: \u001b[36m7/20 \u001b[35mStep: \u001b[36m20/20 \u001b[35m100.00% |\u001b[35m█████████████████████████\u001b[35m|\u001b[32m36.62s \u001b[35mloss:\u001b[94m 18.268780\u001b[35m acc:\u001b[94m 32.500000\u001b[35m fscore_micro:\u001b[94m 0.325000\u001b[35m fscore_macro:\u001b[94m 0.265664\u001b[35m val_loss:\u001b[94m 10.207741\u001b[35m val_acc:\u001b[94m 24.691359\u001b[35m val_fscore_micro:\u001b[94m 0.246914\u001b[35m val_fscore_macro:\u001b[94m 0.133435\u001b[0m\n",
      "\u001b[35mEpoch: \u001b[36m8/20 \u001b[35mStep: \u001b[36m20/20 \u001b[35m100.00% |\u001b[35m█████████████████████████\u001b[35m|\u001b[32m36.28s \u001b[35mloss:\u001b[94m 15.188618\u001b[35m acc:\u001b[94m 33.828125\u001b[35m fscore_micro:\u001b[94m 0.338281\u001b[35m fscore_macro:\u001b[94m 0.280529\u001b[35m val_loss:\u001b[94m 10.584584\u001b[35m val_acc:\u001b[94m 25.308641\u001b[35m val_fscore_micro:\u001b[94m 0.253086\u001b[35m val_fscore_macro:\u001b[94m 0.145125\u001b[0m\n",
      "\u001b[35mEpoch: \u001b[36m9/20 \u001b[35mStep: \u001b[36m20/20 \u001b[35m100.00% |\u001b[35m█████████████████████████\u001b[35m|\u001b[32m36.66s \u001b[35mloss:\u001b[94m 13.909974\u001b[35m acc:\u001b[94m 33.281250\u001b[35m fscore_micro:\u001b[94m 0.332812\u001b[35m fscore_macro:\u001b[94m 0.267419\u001b[35m val_loss:\u001b[94m 10.413953\u001b[35m val_acc:\u001b[94m 24.691359\u001b[35m val_fscore_micro:\u001b[94m 0.246914\u001b[35m val_fscore_macro:\u001b[94m 0.133994\u001b[0m\n",
      "\u001b[35mEpoch: \u001b[36m10/20 \u001b[35mStep: \u001b[36m20/20 \u001b[35m100.00% |\u001b[35m█████████████████████████\u001b[35m|\u001b[32m36.75s \u001b[35mloss:\u001b[94m 16.532458\u001b[35m acc:\u001b[94m 33.984375\u001b[35m fscore_micro:\u001b[94m 0.339844\u001b[35m fscore_macro:\u001b[94m 0.273286\u001b[35m val_loss:\u001b[94m 13.828146\u001b[35m val_acc:\u001b[94m 24.691359\u001b[35m val_fscore_micro:\u001b[94m 0.246914\u001b[35m val_fscore_macro:\u001b[94m 0.134397\u001b[0m\n",
      "\u001b[35mEpoch: \u001b[36m11/20 \u001b[35mStep: \u001b[36m20/20 \u001b[35m100.00% |\u001b[35m█████████████████████████\u001b[35m|\u001b[32m36.34s \u001b[35mloss:\u001b[94m 14.014615\u001b[35m acc:\u001b[94m 32.343750\u001b[35m fscore_micro:\u001b[94m 0.323438\u001b[35m fscore_macro:\u001b[94m 0.260598\u001b[35m val_loss:\u001b[94m 11.352558\u001b[35m val_acc:\u001b[94m 27.160492\u001b[35m val_fscore_micro:\u001b[94m 0.271605\u001b[35m val_fscore_macro:\u001b[94m 0.169507\u001b[0m\n",
      "\u001b[35mEpoch: \u001b[36m12/20 \u001b[35mStep: \u001b[36m20/20 \u001b[35m100.00% |\u001b[35m█████████████████████████\u001b[35m|\u001b[32m36.43s \u001b[35mloss:\u001b[94m 13.356974\u001b[35m acc:\u001b[94m 32.031250\u001b[35m fscore_micro:\u001b[94m 0.320312\u001b[35m fscore_macro:\u001b[94m 0.267591\u001b[35m val_loss:\u001b[94m 9.098144\u001b[35m val_acc:\u001b[94m 24.691359\u001b[35m val_fscore_micro:\u001b[94m 0.246914\u001b[35m val_fscore_macro:\u001b[94m 0.141542\u001b[0m\n",
      "\u001b[35mEpoch: \u001b[36m13/20 \u001b[35mStep: \u001b[36m20/20 \u001b[35m100.00% |\u001b[35m█████████████████████████\u001b[35m|\u001b[32m36.47s \u001b[35mloss:\u001b[94m 16.399967\u001b[35m acc:\u001b[94m 30.078125\u001b[35m fscore_micro:\u001b[94m 0.300781\u001b[35m fscore_macro:\u001b[94m 0.246337\u001b[35m val_loss:\u001b[94m 16.764713\u001b[35m val_acc:\u001b[94m 27.160492\u001b[35m val_fscore_micro:\u001b[94m 0.271605\u001b[35m val_fscore_macro:\u001b[94m 0.178921\u001b[0m\n",
      "\u001b[35mEpoch: \u001b[36m14/20 \u001b[35mStep: \u001b[36m20/20 \u001b[35m100.00% |\u001b[35m█████████████████████████\u001b[35m|\u001b[32m36.45s \u001b[35mloss:\u001b[94m 13.373036\u001b[35m acc:\u001b[94m 33.203125\u001b[35m fscore_micro:\u001b[94m 0.332031\u001b[35m fscore_macro:\u001b[94m 0.252715\u001b[35m val_loss:\u001b[94m 9.054464\u001b[35m val_acc:\u001b[94m 26.543209\u001b[35m val_fscore_micro:\u001b[94m 0.265432\u001b[35m val_fscore_macro:\u001b[94m 0.190782\u001b[0m\n",
      "\u001b[35mEpoch: \u001b[36m15/20 \u001b[35mStep: \u001b[36m20/20 \u001b[35m100.00% |\u001b[35m█████████████████████████\u001b[35m|\u001b[32m36.47s \u001b[35mloss:\u001b[94m 13.527908\u001b[35m acc:\u001b[94m 33.593750\u001b[35m fscore_micro:\u001b[94m 0.335938\u001b[35m fscore_macro:\u001b[94m 0.279921\u001b[35m val_loss:\u001b[94m 10.378949\u001b[35m val_acc:\u001b[94m 24.691359\u001b[35m val_fscore_micro:\u001b[94m 0.246914\u001b[35m val_fscore_macro:\u001b[94m 0.156967\u001b[0m\n",
      "\u001b[35mEpoch: \u001b[36m16/20 \u001b[35mStep: \u001b[36m20/20 \u001b[35m100.00% |\u001b[35m█████████████████████████\u001b[35m|\u001b[32m36.56s \u001b[35mloss:\u001b[94m 12.983343\u001b[35m acc:\u001b[94m 32.500000\u001b[35m fscore_micro:\u001b[94m 0.325000\u001b[35m fscore_macro:\u001b[94m 0.253744\u001b[35m val_loss:\u001b[94m 13.068048\u001b[35m val_acc:\u001b[94m 22.222223\u001b[35m val_fscore_micro:\u001b[94m 0.222222\u001b[35m val_fscore_macro:\u001b[94m 0.117127\u001b[0m\n",
      "\u001b[35mEpoch: \u001b[36m17/20 \u001b[35mStep: \u001b[36m20/20 \u001b[35m100.00% |\u001b[35m█████████████████████████\u001b[35m|\u001b[32m36.91s \u001b[35mloss:\u001b[94m 11.979371\u001b[35m acc:\u001b[94m 32.812500\u001b[35m fscore_micro:\u001b[94m 0.328125\u001b[35m fscore_macro:\u001b[94m 0.270064\u001b[35m val_loss:\u001b[94m 8.538897\u001b[35m val_acc:\u001b[94m 24.691359\u001b[35m val_fscore_micro:\u001b[94m 0.246914\u001b[35m val_fscore_macro:\u001b[94m 0.148047\u001b[0m\n",
      "\u001b[35mEpoch: \u001b[36m18/20 \u001b[35mStep: \u001b[36m20/20 \u001b[35m100.00% |\u001b[35m█████████████████████████\u001b[35m|\u001b[32m36.48s \u001b[35mloss:\u001b[94m 11.298814\u001b[35m acc:\u001b[94m 30.156250\u001b[35m fscore_micro:\u001b[94m 0.301562\u001b[35m fscore_macro:\u001b[94m 0.241456\u001b[35m val_loss:\u001b[94m 9.113203\u001b[35m val_acc:\u001b[94m 25.925926\u001b[35m val_fscore_micro:\u001b[94m 0.259259\u001b[35m val_fscore_macro:\u001b[94m 0.150690\u001b[0m\n",
      "\u001b[35mEpoch: \u001b[36m19/20 \u001b[35mStep: \u001b[36m20/20 \u001b[35m100.00% |\u001b[35m█████████████████████████\u001b[35m|\u001b[32m36.89s \u001b[35mloss:\u001b[94m 10.031885\u001b[35m acc:\u001b[94m 33.984375\u001b[35m fscore_micro:\u001b[94m 0.339844\u001b[35m fscore_macro:\u001b[94m 0.269768\u001b[35m val_loss:\u001b[94m 8.610765\u001b[35m val_acc:\u001b[94m 29.012346\u001b[35m val_fscore_micro:\u001b[94m 0.290123\u001b[35m val_fscore_macro:\u001b[94m 0.163633\u001b[0m\n",
      "\u001b[35mEpoch: \u001b[36m20/20 \u001b[35mStep: \u001b[36m20/20 \u001b[35m100.00% |\u001b[35m█████████████████████████\u001b[35m|\u001b[32m36.20s \u001b[35mloss:\u001b[94m 9.624654\u001b[35m acc:\u001b[94m 32.890625\u001b[35m fscore_micro:\u001b[94m 0.328906\u001b[35m fscore_macro:\u001b[94m 0.259895\u001b[35m val_loss:\u001b[94m 9.309073\u001b[35m val_acc:\u001b[94m 27.160492\u001b[35m val_fscore_micro:\u001b[94m 0.271605\u001b[35m val_fscore_macro:\u001b[94m 0.182440\u001b[0m\n"
     ]
    }
   ],
   "source": [
    "# train with poutyne\n",
    "mdl = Model(model,'adam','cross_entropy',\n",
    "            batch_metrics=['accuracy'],\n",
    "            epoch_metrics=[poutyne.F1('micro'),poutyne.F1('macro')]).to(device)\n",
    "history = mdl.fit_generator(train_generator=train_loader,valid_generator=test_loader,epochs=finetune_epochs)"
   ]
  },
  {
   "cell_type": "code",
   "execution_count": null,
   "metadata": {},
   "outputs": [],
   "source": []
  }
 ],
 "metadata": {
  "kernelspec": {
   "display_name": "Python 3",
   "language": "python",
   "name": "python3"
  },
  "language_info": {
   "codemirror_mode": {
    "name": "ipython",
    "version": 3
   },
   "file_extension": ".py",
   "mimetype": "text/x-python",
   "name": "python",
   "nbconvert_exporter": "python",
   "pygments_lexer": "ipython3",
   "version": "3.7.6"
  }
 },
 "nbformat": 4,
 "nbformat_minor": 4
}
